{
 "cells": [
  {
   "cell_type": "code",
   "execution_count": 16,
   "metadata": {},
   "outputs": [],
   "source": [
    "import datetime\n",
    "import pytz    #This library allows accurate and cross platform timezone calculations\n",
    "from sklearn.cluster import KMeans \n",
    "from matplotlib import pyplot as plt\n",
    "import matplotlib.ticker as mpticker\n",
    "import pandas\n",
    "import numpy"
   ]
  },
  {
   "cell_type": "code",
   "execution_count": 17,
   "metadata": {},
   "outputs": [],
   "source": [
    "# The mplfinance package provides utilities for the visualization, and visual analysis, of financial data\n",
    "from mpl_finance import candlestick_ohlc\n",
    "# Taking data from Yahoo Finance\n",
    "import yfinance as yf\n",
    "yf.pdr_override()"
   ]
  },
  {
   "cell_type": "code",
   "execution_count": 18,
   "metadata": {},
   "outputs": [],
   "source": [
    "def get_optimum_clusters(df, saturation_point=0.05):\n",
    "    '''\n",
    "    :param df: dataframe\n",
    "    :param saturation_point (5%): The amount of difference we are willing to detect\n",
    "    :return: clusters with optimum K centers\n",
    "    This method uses elbow method to find the optimum number of K clusters\n",
    "    We initialize different K-means with 1..10 centers and compare the inertias\n",
    "    If the difference is no more than saturation_point, we choose that as K and move on\n",
    "    '''\n",
    "\n",
    "    wcss = []\n",
    "    k_models = []\n",
    "\n",
    "    size = min(11, len(df.index))\n",
    "    for i in range(1, size):\n",
    "        kmeans = KMeans(n_clusters=i, init='k-means++', max_iter=300, n_init=10, random_state=0)\n",
    "        kmeans.fit(df)\n",
    "        wcss.append(kmeans.inertia_)\n",
    "        k_models.append(kmeans)\n",
    "\n",
    "    # Compare differences in inertias until it's no more than saturation_point\n",
    "    optimum_k = len(wcss)-1\n",
    "    for i in range(0, len(wcss)-1):\n",
    "        diff = abs(wcss[i+1] - wcss[i])\n",
    "        if diff < saturation_point:\n",
    "            optimum_k = i\n",
    "            break\n",
    "\n",
    "    print(\"Optimum K is \" + str(optimum_k + 1))\n",
    "    optimum_clusters = k_models[optimum_k]\n",
    "\n",
    "    return optimum_clusters"
   ]
  },
  {
   "cell_type": "code",
   "execution_count": 19,
   "metadata": {},
   "outputs": [],
   "source": [
    "def plot_price_data(data):   #creating 2 subplots, one for price and one for volume\n",
    "    fig, ax = plt.subplots()\n",
    "    ax1 = plt.subplot2grid((5,1), (0,0), rowspan=4)\n",
    "    ax2 = plt.subplot2grid((5,1), (4,0), sharex=ax1)\n",
    "\n",
    "    ax1.set_title(\"{} - {}\".format(symbol, start))\n",
    "    ax1.set_facecolor(\"#131722\")\n",
    "    ax1.xaxis.set_major_formatter(mpticker.FuncFormatter(mydate))\n",
    "\n",
    "    candlestick_ohlc(ax1, data.to_numpy(), width=8, colorup='#77d879', colordown='#db3f3f')\n",
    "\n",
    "    ax2.bar(data['Time'], data['Volume'], width=30)\n",
    "    ax2.xaxis.set_major_formatter(mpticker.FuncFormatter(mydate))\n",
    "    fig.subplots_adjust(hspace=0)\n",
    "    fig.autofmt_xdate()\n",
    "    return ax1\n"
   ]
  },
  {
   "cell_type": "code",
   "execution_count": 20,
   "metadata": {},
   "outputs": [],
   "source": [
    "def mydate(x,pos):     #adjusting timezone\n",
    "    try:\n",
    "        return datetime.datetime.fromtimestamp(x, tz=est).strftime(date_format)\n",
    "    except IndexError:\n",
    "        return ''"
   ]
  },
  {
   "cell_type": "code",
   "execution_count": 21,
   "metadata": {},
   "outputs": [],
   "source": [
    "symbol = \"AMZN\"\n",
    "start = \"2023-06-01\"\n",
    "end = \"2023-06-02\"\n",
    "est = pytz.timezone('US/Eastern')\n",
    "date_format = \"%H:%M\"\n",
    "ticker = yf.Ticker(symbol)\n",
    "intraday_data = ticker.history(period=\"1d\", interval=\"1m\",start=start, end=end, prepost=False, actions=False)\n",
    "intraday_data = intraday_data[:15] \n"
   ]
  },
  {
   "cell_type": "code",
   "execution_count": 22,
   "metadata": {},
   "outputs": [],
   "source": [
    "intraday_data[\"Time\"] = [d.timestamp() for d in intraday_data.index]    #Converting Datetime format to timestamp\n",
    "intraday_data = intraday_data[[ \"Time\", \"Open\", \"High\", \"Low\", \"Close\", \"Volume\"]]"
   ]
  },
  {
   "cell_type": "code",
   "execution_count": 23,
   "metadata": {},
   "outputs": [
    {
     "data": {
      "text/html": [
       "<div>\n",
       "<style scoped>\n",
       "    .dataframe tbody tr th:only-of-type {\n",
       "        vertical-align: middle;\n",
       "    }\n",
       "\n",
       "    .dataframe tbody tr th {\n",
       "        vertical-align: top;\n",
       "    }\n",
       "\n",
       "    .dataframe thead th {\n",
       "        text-align: right;\n",
       "    }\n",
       "</style>\n",
       "<table border=\"1\" class=\"dataframe\">\n",
       "  <thead>\n",
       "    <tr style=\"text-align: right;\">\n",
       "      <th></th>\n",
       "      <th>Time</th>\n",
       "      <th>Open</th>\n",
       "      <th>High</th>\n",
       "      <th>Low</th>\n",
       "      <th>Close</th>\n",
       "      <th>Volume</th>\n",
       "    </tr>\n",
       "    <tr>\n",
       "      <th>Datetime</th>\n",
       "      <th></th>\n",
       "      <th></th>\n",
       "      <th></th>\n",
       "      <th></th>\n",
       "      <th></th>\n",
       "      <th></th>\n",
       "    </tr>\n",
       "  </thead>\n",
       "  <tbody>\n",
       "    <tr>\n",
       "      <th>2023-06-01 09:30:00-04:00</th>\n",
       "      <td>1.685626e+09</td>\n",
       "      <td>120.690002</td>\n",
       "      <td>121.570000</td>\n",
       "      <td>120.610001</td>\n",
       "      <td>121.550003</td>\n",
       "      <td>1773493</td>\n",
       "    </tr>\n",
       "    <tr>\n",
       "      <th>2023-06-01 09:31:00-04:00</th>\n",
       "      <td>1.685626e+09</td>\n",
       "      <td>121.558701</td>\n",
       "      <td>121.559998</td>\n",
       "      <td>120.904198</td>\n",
       "      <td>121.050003</td>\n",
       "      <td>286869</td>\n",
       "    </tr>\n",
       "    <tr>\n",
       "      <th>2023-06-01 09:32:00-04:00</th>\n",
       "      <td>1.685626e+09</td>\n",
       "      <td>121.052399</td>\n",
       "      <td>121.220001</td>\n",
       "      <td>120.849998</td>\n",
       "      <td>121.070000</td>\n",
       "      <td>253911</td>\n",
       "    </tr>\n",
       "    <tr>\n",
       "      <th>2023-06-01 09:33:00-04:00</th>\n",
       "      <td>1.685626e+09</td>\n",
       "      <td>121.059998</td>\n",
       "      <td>121.099998</td>\n",
       "      <td>120.663597</td>\n",
       "      <td>120.856003</td>\n",
       "      <td>237820</td>\n",
       "    </tr>\n",
       "    <tr>\n",
       "      <th>2023-06-01 09:34:00-04:00</th>\n",
       "      <td>1.685626e+09</td>\n",
       "      <td>120.860001</td>\n",
       "      <td>120.860001</td>\n",
       "      <td>120.160004</td>\n",
       "      <td>120.330002</td>\n",
       "      <td>346930</td>\n",
       "    </tr>\n",
       "    <tr>\n",
       "      <th>2023-06-01 09:35:00-04:00</th>\n",
       "      <td>1.685626e+09</td>\n",
       "      <td>120.320000</td>\n",
       "      <td>120.410004</td>\n",
       "      <td>119.930000</td>\n",
       "      <td>120.190002</td>\n",
       "      <td>292237</td>\n",
       "    </tr>\n",
       "    <tr>\n",
       "      <th>2023-06-01 09:36:00-04:00</th>\n",
       "      <td>1.685627e+09</td>\n",
       "      <td>120.183998</td>\n",
       "      <td>120.339996</td>\n",
       "      <td>120.139999</td>\n",
       "      <td>120.239998</td>\n",
       "      <td>179203</td>\n",
       "    </tr>\n",
       "    <tr>\n",
       "      <th>2023-06-01 09:37:00-04:00</th>\n",
       "      <td>1.685627e+09</td>\n",
       "      <td>120.235001</td>\n",
       "      <td>120.370003</td>\n",
       "      <td>120.180000</td>\n",
       "      <td>120.279999</td>\n",
       "      <td>153431</td>\n",
       "    </tr>\n",
       "    <tr>\n",
       "      <th>2023-06-01 09:38:00-04:00</th>\n",
       "      <td>1.685627e+09</td>\n",
       "      <td>120.279999</td>\n",
       "      <td>120.620003</td>\n",
       "      <td>120.275002</td>\n",
       "      <td>120.529999</td>\n",
       "      <td>266805</td>\n",
       "    </tr>\n",
       "    <tr>\n",
       "      <th>2023-06-01 09:39:00-04:00</th>\n",
       "      <td>1.685627e+09</td>\n",
       "      <td>120.529999</td>\n",
       "      <td>120.800003</td>\n",
       "      <td>120.430000</td>\n",
       "      <td>120.760101</td>\n",
       "      <td>257347</td>\n",
       "    </tr>\n",
       "    <tr>\n",
       "      <th>2023-06-01 09:40:00-04:00</th>\n",
       "      <td>1.685627e+09</td>\n",
       "      <td>120.764999</td>\n",
       "      <td>120.970001</td>\n",
       "      <td>120.764999</td>\n",
       "      <td>120.830002</td>\n",
       "      <td>202393</td>\n",
       "    </tr>\n",
       "    <tr>\n",
       "      <th>2023-06-01 09:41:00-04:00</th>\n",
       "      <td>1.685627e+09</td>\n",
       "      <td>120.644997</td>\n",
       "      <td>120.697899</td>\n",
       "      <td>120.500603</td>\n",
       "      <td>120.599998</td>\n",
       "      <td>266930</td>\n",
       "    </tr>\n",
       "    <tr>\n",
       "      <th>2023-06-01 09:42:00-04:00</th>\n",
       "      <td>1.685627e+09</td>\n",
       "      <td>120.583298</td>\n",
       "      <td>120.760002</td>\n",
       "      <td>120.339996</td>\n",
       "      <td>120.529999</td>\n",
       "      <td>188550</td>\n",
       "    </tr>\n",
       "    <tr>\n",
       "      <th>2023-06-01 09:43:00-04:00</th>\n",
       "      <td>1.685627e+09</td>\n",
       "      <td>120.519997</td>\n",
       "      <td>120.589996</td>\n",
       "      <td>120.320000</td>\n",
       "      <td>120.493698</td>\n",
       "      <td>163137</td>\n",
       "    </tr>\n",
       "    <tr>\n",
       "      <th>2023-06-01 09:44:00-04:00</th>\n",
       "      <td>1.685627e+09</td>\n",
       "      <td>120.493797</td>\n",
       "      <td>120.574997</td>\n",
       "      <td>120.350098</td>\n",
       "      <td>120.480003</td>\n",
       "      <td>168243</td>\n",
       "    </tr>\n",
       "  </tbody>\n",
       "</table>\n",
       "</div>"
      ],
      "text/plain": [
       "                                   Time        Open        High         Low  \\\n",
       "Datetime                                                                      \n",
       "2023-06-01 09:30:00-04:00  1.685626e+09  120.690002  121.570000  120.610001   \n",
       "2023-06-01 09:31:00-04:00  1.685626e+09  121.558701  121.559998  120.904198   \n",
       "2023-06-01 09:32:00-04:00  1.685626e+09  121.052399  121.220001  120.849998   \n",
       "2023-06-01 09:33:00-04:00  1.685626e+09  121.059998  121.099998  120.663597   \n",
       "2023-06-01 09:34:00-04:00  1.685626e+09  120.860001  120.860001  120.160004   \n",
       "2023-06-01 09:35:00-04:00  1.685626e+09  120.320000  120.410004  119.930000   \n",
       "2023-06-01 09:36:00-04:00  1.685627e+09  120.183998  120.339996  120.139999   \n",
       "2023-06-01 09:37:00-04:00  1.685627e+09  120.235001  120.370003  120.180000   \n",
       "2023-06-01 09:38:00-04:00  1.685627e+09  120.279999  120.620003  120.275002   \n",
       "2023-06-01 09:39:00-04:00  1.685627e+09  120.529999  120.800003  120.430000   \n",
       "2023-06-01 09:40:00-04:00  1.685627e+09  120.764999  120.970001  120.764999   \n",
       "2023-06-01 09:41:00-04:00  1.685627e+09  120.644997  120.697899  120.500603   \n",
       "2023-06-01 09:42:00-04:00  1.685627e+09  120.583298  120.760002  120.339996   \n",
       "2023-06-01 09:43:00-04:00  1.685627e+09  120.519997  120.589996  120.320000   \n",
       "2023-06-01 09:44:00-04:00  1.685627e+09  120.493797  120.574997  120.350098   \n",
       "\n",
       "                                Close   Volume  \n",
       "Datetime                                        \n",
       "2023-06-01 09:30:00-04:00  121.550003  1773493  \n",
       "2023-06-01 09:31:00-04:00  121.050003   286869  \n",
       "2023-06-01 09:32:00-04:00  121.070000   253911  \n",
       "2023-06-01 09:33:00-04:00  120.856003   237820  \n",
       "2023-06-01 09:34:00-04:00  120.330002   346930  \n",
       "2023-06-01 09:35:00-04:00  120.190002   292237  \n",
       "2023-06-01 09:36:00-04:00  120.239998   179203  \n",
       "2023-06-01 09:37:00-04:00  120.279999   153431  \n",
       "2023-06-01 09:38:00-04:00  120.529999   266805  \n",
       "2023-06-01 09:39:00-04:00  120.760101   257347  \n",
       "2023-06-01 09:40:00-04:00  120.830002   202393  \n",
       "2023-06-01 09:41:00-04:00  120.599998   266930  \n",
       "2023-06-01 09:42:00-04:00  120.529999   188550  \n",
       "2023-06-01 09:43:00-04:00  120.493698   163137  \n",
       "2023-06-01 09:44:00-04:00  120.480003   168243  "
      ]
     },
     "execution_count": 23,
     "metadata": {},
     "output_type": "execute_result"
    }
   ],
   "source": [
    "intraday_data"
   ]
  },
  {
   "cell_type": "code",
   "execution_count": 24,
   "metadata": {},
   "outputs": [
    {
     "data": {
      "image/png": "[encoded data removed]",
      "text/plain": [
       "<Figure size 640x480 with 2 Axes>"
      ]
     },
     "metadata": {},
     "output_type": "display_data"
    }
   ],
   "source": [
    "ax = plot_price_data(intraday_data)"
   ]
  },
  {
   "cell_type": "code",
   "execution_count": 25,
   "metadata": {},
   "outputs": [],
   "source": [
    "lows = pandas.DataFrame(data=intraday_data, index=intraday_data.index, columns=[\"Low\"])\n",
    "highs = pandas.DataFrame(data=intraday_data, index=intraday_data.index, columns=[\"High\"])"
   ]
  },
  {
   "cell_type": "code",
   "execution_count": 26,
   "metadata": {},
   "outputs": [
    {
     "name": "stderr",
     "output_type": "stream",
     "text": [
      "C:\\Users\\Admin\\anaconda3\\lib\\site-packages\\sklearn\\cluster\\_kmeans.py:1036: UserWarning: KMeans is known to have a memory leak on Windows with MKL, when there are less chunks than available threads. You can avoid it by setting the environment variable OMP_NUM_THREADS=1.\n",
      "  warnings.warn(\n"
     ]
    },
    {
     "name": "stdout",
     "output_type": "stream",
     "text": [
      "Optimum K is 4\n"
     ]
    },
    {
     "name": "stderr",
     "output_type": "stream",
     "text": [
      "C:\\Users\\Admin\\anaconda3\\lib\\site-packages\\sklearn\\cluster\\_kmeans.py:1036: UserWarning: KMeans is known to have a memory leak on Windows with MKL, when there are less chunks than available threads. You can avoid it by setting the environment variable OMP_NUM_THREADS=1.\n",
      "  warnings.warn(\n"
     ]
    },
    {
     "name": "stdout",
     "output_type": "stream",
     "text": [
      "Optimum K is 5\n"
     ]
    }
   ],
   "source": [
    "low_clusters = get_optimum_clusters(lows)\n",
    "low_centers = low_clusters.cluster_centers_\n",
    "low_centers = numpy.sort(low_centers, axis=0)\n",
    "\n",
    "high_clusters = get_optimum_clusters(highs)\n",
    "high_centers = high_clusters.cluster_centers_\n",
    "high_centers = numpy.sort(high_centers, axis=0)"
   ]
  },
  {
   "cell_type": "code",
   "execution_count": 27,
   "metadata": {},
   "outputs": [
    {
     "name": "stdout",
     "output_type": "stream",
     "text": [
      "[[120.10250092]\n",
      " [120.3430191 ]\n",
      " [120.59140015]\n",
      " [120.83973185]]\n",
      "[[120.37333425]\n",
      " [120.62072372]\n",
      " [120.84750175]\n",
      " [121.15999985]\n",
      " [121.56499863]]\n"
     ]
    }
   ],
   "source": [
    "print(low_centers)\n",
    "print(high_centers)"
   ]
  },
  {
   "cell_type": "code",
   "execution_count": 31,
   "metadata": {},
   "outputs": [
    {
     "data": {
      "image/png": "[encoded data removed]",
      "text/plain": [
       "<Figure size 640x480 with 2 Axes>"
      ]
     },
     "metadata": {},
     "output_type": "display_data"
    }
   ],
   "source": [
    "ax = plot_price_data(intraday_data)\n",
    "for low in low_centers[:2]:\n",
    "    ax.axhline(low[0], color='yellow', ls='--')\n",
    "\n",
    "for high in high_centers[-1:]:\n",
    "    ax.axhline(high[0], color='orange', ls='--')\n",
    "plt.show()"
   ]
  },
  {
   "cell_type": "code",
   "execution_count": null,
   "metadata": {},
   "outputs": [],
   "source": []
  }
 ],
 "metadata": {
  "interpreter": {
   "hash": "34efcf26aefc93ca84fc13ce99e07e89c19507afee5635f783e639986a37c2db"
  },
  "kernelspec": {
   "display_name": "Python 3 (ipykernel)",
   "language": "python",
   "name": "python3"
  },
  "language_info": {
   "codemirror_mode": {
    "name": "ipython",
    "version": 3
   },
   "file_extension": ".py",
   "mimetype": "text/x-python",
   "name": "python",
   "nbconvert_exporter": "python",
   "pygments_lexer": "ipython3",
   "version": "3.9.13"
  }
 },
 "nbformat": 4,
 "nbformat_minor": 2
}
